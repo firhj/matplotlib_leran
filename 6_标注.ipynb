{
 "cells": [
  {
   "cell_type": "code",
   "execution_count": 1,
   "metadata": {
    "collapsed": true,
    "pycharm": {
     "is_executing": false
    }
   },
   "outputs": [],
   "source": [
    "import matplotlib.pyplot as plt\n",
    "import numpy as np"
   ]
  },
  {
   "cell_type": "code",
   "execution_count": 21,
   "outputs": [
    {
     "data": {
      "text/plain": "<Figure size 432x288 with 1 Axes>",
      "image/png": "[encoded data removed]"
     },
     "metadata": {
      "needs_background": "light"
     },
     "output_type": "display_data"
    }
   ],
   "source": [
    "x = np.linspace(-3,3,100)\n",
    "y1 = 2*x +1\n",
    "y2 = x**2\n",
    "\n",
    "plt.plot(x,y1,color = \"red\", linewidth = 1.0, linestyle = \"-\")\n",
    "\n",
    "ax = plt.gca()\n",
    "\n",
    "ax.spines['top'].set_color('none')  # 设置上‘脊梁’为红色\n",
    "ax.spines['right'].set_color('none')  # 设置上‘脊梁’为红色\n",
    "\n",
    "#设置x刻度为'bottom'\n",
    "ax.xaxis.set_ticks_position('bottom')\n",
    "ax.yaxis.set_ticks_position('left')\n",
    "\n",
    "#设置坐标轴对应到0 1点\n",
    "ax.spines['bottom'].set_position(('data',0))\n",
    "ax.spines['left'].set_position(('data',0))\n",
    "\n",
    "x0 = 0.5\n",
    "y0 = 2*x0 +1\n",
    "\n",
    "plt.scatter(x0,y0,color = 'b')\n",
    "#画虚线\n",
    "plt.plot([x0,x0],[y0,0],'k--',lw = 2)\n",
    "\n",
    "plt.annotate(r'$2x+1=%d$'% y0,xy=(x0,y0),xytext = (+30,-30),textcoords = 'offset points',fontsize = 16\n",
    "            , arrowprops = dict(arrowstyle ='->', connectionstyle = 'arc3,rad=.2')\n",
    "             )\n",
    "\n",
    "#红色描述\n",
    "plt.text(-1,2,r'$this is text$', fontdict={'size':'16','color':'r'})\n",
    "\n",
    "plt.show()"
   ],
   "metadata": {
    "collapsed": false,
    "pycharm": {
     "name": "#%%\n",
     "is_executing": false
    }
   }
  },
  {
   "cell_type": "code",
   "execution_count": null,
   "outputs": [],
   "source": [
    "\n"
   ],
   "metadata": {
    "collapsed": false,
    "pycharm": {
     "name": "#%%\n"
    }
   }
  }
 ],
 "metadata": {
  "kernelspec": {
   "display_name": "Python 3",
   "language": "python",
   "name": "python3"
  },
  "language_info": {
   "codemirror_mode": {
    "name": "ipython",
    "version": 2
   },
   "file_extension": ".py",
   "mimetype": "text/x-python",
   "name": "python",
   "nbconvert_exporter": "python",
   "pygments_lexer": "ipython2",
   "version": "2.7.6"
  },
  "pycharm": {
   "stem_cell": {
    "cell_type": "raw",
    "source": [],
    "metadata": {
     "collapsed": false
    }
   }
  }
 },
 "nbformat": 4,
 "nbformat_minor": 0
}